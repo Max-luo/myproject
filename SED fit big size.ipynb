{
 "cells": [
  {
   "cell_type": "code",
   "execution_count": 1,
   "metadata": {},
   "outputs": [],
   "source": [
    "import glob\n",
    "import os\n",
    "from astropy.io import fits\n",
    "from astropy import units as u\n",
    "from higal_sedfitter import smooth, fit, higal_beams\n",
    "from higal_sedfitter.fit import PixelFitter\n",
    "import numpy as np\n",
    "import matplotlib.pyplot as plt\n",
    "import matplotlib as mpl\n",
    "from lmfit import minimize, Parameters, Model\n",
    "import FITS_tools.header_tools as FITS_header_tools\n",
    "import aplpy as ap\n",
    "import shutil\n",
    "from astropy.table import Table, Column, vstack\n",
    "import astropy.coordinates as coords\n",
    "import astropy.constants as cons\n",
    "from scipy.integrate import quad"
   ]
  },
  {
   "cell_type": "code",
   "execution_count": 2,
   "metadata": {},
   "outputs": [
    {
     "name": "stdout",
     "output_type": "stream",
     "text": [
      "/home/wang/casa/LIu\n"
     ]
    }
   ],
   "source": [
    "pwd = os.getcwd()\n",
    "print(pwd)"
   ]
  },
  {
   "cell_type": "code",
   "execution_count": 3,
   "metadata": {},
   "outputs": [],
   "source": [
    "Herschel1=\"Herschel_PACS070.fits\"\n",
    "hdu = fits.open(Herschel1)\n",
    "fits.writeto(\"Herschel_PACS070_newhd.fits\",header=hdu[1].header, data=hdu[1].data, overwrite=True)"
   ]
  },
  {
   "cell_type": "code",
   "execution_count": 4,
   "metadata": {},
   "outputs": [],
   "source": [
    "Herschel2=\"Herschel_PACS160.fits\"\n",
    "hdu = fits.open(Herschel2)\n",
    "fits.writeto(\"Herschel_PACS160_newhd.fits\",header=hdu[1].header, data=hdu[1].data, overwrite=True)\n",
    "Herschel3=\"Herschel_SPIRE250.fits\"\n",
    "hdu = fits.open(Herschel3)\n",
    "fits.writeto(\"Herschel_SPIRE250_newhd.fits\",header=hdu[1].header, data=hdu[1].data, overwrite=True)\n",
    "Herschel4=\"Herschel_SPIRE350.fits\"\n",
    "hdu = fits.open(Herschel4)\n",
    "fits.writeto(\"Herschel_SPIRE350_newhd.fits\",header=hdu[1].header, data=hdu[1].data, overwrite=True)\n",
    "Herschel5=\"Herschel_SPIRE500.fits\"\n",
    "hdu = fits.open(Herschel5)\n",
    "fits.writeto(\"Herschel_SPIRE500_newhd.fits\",header=hdu[1].header, data=hdu[1].data, overwrite=True)"
   ]
  },
  {
   "cell_type": "code",
   "execution_count": 5,
   "metadata": {},
   "outputs": [
    {
     "name": "stderr",
     "output_type": "stream",
     "text": [
      "WARNING: AstropyDeprecationWarning: \"clobber\" was deprecated in version 2.0 and will be removed in a future version. Use argument \"overwrite\" instead. [higal_sedfitter.smooth]\n"
     ]
    }
   ],
   "source": [
    "fn='Herschel_PACS070_newhd.fits'\n",
    "smooth.add_beam_information_to_higal_header(fn, name_to_um=higal_beams.num_to_um, clobber=True)\n",
    "fn1='Herschel_PACS160_newhd.fits'\n",
    "smooth.add_beam_information_to_higal_header(fn1, name_to_um=higal_beams.num_to_um, clobber=True)\n",
    "fn2='Herschel_SPIRE250_newhd.fits'\n",
    "smooth.add_beam_information_to_higal_header(fn2, name_to_um=higal_beams.num_to_um, clobber=True)\n",
    "fn3='Herschel_SPIRE350_newhd.fits'\n",
    "smooth.add_beam_information_to_higal_header(fn3, name_to_um=higal_beams.num_to_um, clobber=True)\n",
    "fn4=\"Herschel_SPIRE500_newhd.fits\"\n",
    "smooth.add_beam_information_to_higal_header(fn4, name_to_um=higal_beams.num_to_um, clobber=True)"
   ]
  },
  {
   "cell_type": "code",
   "execution_count": 6,
   "metadata": {},
   "outputs": [
    {
     "name": "stderr",
     "output_type": "stream",
     "text": [
      "WARNING: VerifyWarning: Invalid 'BLANK' keyword in header.  The 'BLANK' keyword is only applicable to integer data, and will be ignored in this HDU. [astropy.io.fits.hdu.image]\n"
     ]
    }
   ],
   "source": [
    "bmaj = np.array(\n",
    "        [FITS_header_tools.header_to_platescale(fits.open('Herschel_PACS070_newhd.fits')[0].header,use_units=True).value,\n",
    "        FITS_header_tools.header_to_platescale(fits.open('Herschel_PACS160_newhd.fits')[0].header,use_units=True).value,\n",
    "        fits.getheader('Herschel_SPIRE250_newhd.fits')['BMAJ'],\n",
    "        fits.getheader('Herschel_SPIRE350_newhd.fits')['BMAJ'],\n",
    "        fits.getheader('Herschel_SPIRE500_newhd.fits')['BMAJ'],\n",
    "        fits.getheader('Apex_ATLASGAL870.fits')['BMAJ']])\n",
    "bmin = np.array(\n",
    "        [FITS_header_tools.header_to_platescale(fits.open('Herschel_PACS070_newhd.fits')[0].header,use_units=True).value,\n",
    "        FITS_header_tools.header_to_platescale(fits.open('Herschel_PACS160_newhd.fits')[0].header,use_units=True).value,\n",
    "        fits.getheader('Herschel_SPIRE250_newhd.fits')['BMIN'],\n",
    "        fits.getheader('Herschel_SPIRE350_newhd.fits')['BMIN'],\n",
    "        fits.getheader('Herschel_SPIRE500_newhd.fits')['BMIN'],\n",
    "        fits.getheader('Apex_ATLASGAL870.fits')['BMIN']])"
   ]
  },
  {
   "cell_type": "code",
   "execution_count": 7,
   "metadata": {},
   "outputs": [],
   "source": [
    "beam_factor = bmaj*bmin*3600**2*np.array([2.35E-5,2.35E-5,2.66E-5,2.66E-5,2.66E-5,2.66E-5])\n",
    "beam_factor_dir = {'070':beam_factor[0],'160':beam_factor[1],'250':beam_factor[2],\n",
    "                   '350':beam_factor[3],'500':beam_factor[4],'870':beam_factor[5]}"
   ]
  },
  {
   "cell_type": "code",
   "execution_count": 8,
   "metadata": {},
   "outputs": [],
   "source": [
    "hdu = fits.open('Herschel_PACS070_newhd.fits')\n",
    "fits.writeto('Herschel_PACS070_converted.fits', \n",
    "              header=hdu[0].header, data=hdu[0].data/beam_factor_dir['070'], overwrite=True)\n",
    "hdu1 = fits.open('Herschel_PACS160_newhd.fits')\n",
    "fits.writeto('Herschel_PACS160_converted.fits', \n",
    "              header=hdu1[0].header, data=hdu1[0].data/beam_factor_dir['160'], overwrite=True)\n",
    "hdu2 = fits.open('Herschel_SPIRE250_newhd.fits')\n",
    "fits.writeto('Herschel_SPIRE250_converted.fits', \n",
    "              header=hdu2[0].header, data=hdu2[0].data/beam_factor_dir['250'], overwrite=True)\n",
    "hdu3 = fits.open('Herschel_SPIRE350_newhd.fits')\n",
    "fits.writeto('Herschel_SPIRE350_converted.fits', \n",
    "              header=hdu3[0].header, data=hdu3[0].data/beam_factor_dir['350'], overwrite=True)\n",
    "hdu4 = fits.open('Herschel_SPIRE500_newhd.fits')\n",
    "fits.writeto('Herschel_SPIRE500_converted.fits', \n",
    "              header=hdu4[0].header, data=hdu4[0].data/beam_factor_dir['500'], overwrite=True)\n",
    "hdu5 = fits.open('Apex_ATLASGAL870.fits')\n",
    "fits.writeto('Apex_ATLASGAL870_converted.fits',\n",
    "              header=hdu5[0].header, data=hdu5[0].data/beam_factor_dir['870'], overwrite=True)"
   ]
  },
  {
   "cell_type": "code",
   "execution_count": 9,
   "metadata": {},
   "outputs": [],
   "source": [
    "target_fn = glob.glob('Herschel_SPIRE500_converted.fits')[0]\n",
    "target_header = fits.getheader(target_fn)"
   ]
  },
  {
   "cell_type": "code",
   "execution_count": 10,
   "metadata": {},
   "outputs": [
    {
     "name": "stdout",
     "output_type": "stream",
     "text": [
      "Reading file Herschel_SPIRE350_converted.fits\n",
      "Convolving with 1.3729819523537996-pixel kernel\n",
      "Regridding Herschel_SPIRE350_converted_smooth45.fits to Herschel_SPIRE350_converted_smregrid45.fits\n",
      "Reading file Herschel_SPIRE500_converted.fits\n",
      "Convolving with 0.313120387820037-pixel kernel\n",
      "Regridding Herschel_SPIRE500_converted_smooth45.fits to Herschel_SPIRE500_converted_smregrid45.fits\n",
      "Reading file Herschel_SPIRE250_converted.fits\n",
      "Convolving with 2.6986208048260547-pixel kernel\n",
      "Regridding Herschel_SPIRE250_converted_smooth45.fits to Herschel_SPIRE250_converted_smregrid45.fits\n",
      "Reading file Herschel_PACS160_converted.fits\n",
      "Convolving with 5.679762023399851-pixel kernel\n"
     ]
    },
    {
     "name": "stderr",
     "output_type": "stream",
     "text": [
      "WARNING: AstropyDeprecationWarning: \"clobber\" was deprecated in version 2.0 and will be removed in a future version. Use argument \"overwrite\" instead. [higal_sedfitter.smooth]\n",
      "WARNING: AstropyDeprecationWarning: \"clobber\" was deprecated in version 2.0 and will be removed in a future version. Use argument \"overwrite\" instead. [higal_sedfitter.smooth]\n"
     ]
    },
    {
     "name": "stdout",
     "output_type": "stream",
     "text": [
      "Regridding Herschel_PACS160_converted_smooth45.fits to Herschel_PACS160_converted_smregrid45.fits\n",
      "Reading file Herschel_PACS070_converted.fits\n",
      "Convolving with 5.800520356684337-pixel kernel\n",
      "Regridding Herschel_PACS070_converted_smooth45.fits to Herschel_PACS070_converted_smregrid45.fits\n",
      "Reading file Apex_ATLASGAL870_converted.fits\n",
      "Convolving with 5.004057589034037-pixel kernel\n",
      "Regridding Apex_ATLASGAL870_converted_smooth45.fits to Apex_ATLASGAL870_converted_smregrid45.fits\n"
     ]
    },
    {
     "name": "stderr",
     "output_type": "stream",
     "text": [
      "WARNING: nan_treatment='interpolate', however, NaN values detected post convolution. A contiguous region of NaN values, larger than the kernel size, are present in the input array. Increase the kernel size to avoid this. [astropy.convolution.convolve]\n"
     ]
    }
   ],
   "source": [
    "smooth.smooth_images_toresolution(45*u.arcsec, skip_existing=False,\n",
    "                                  globs=['*_converted.fits'],\n",
    "                                  regrid=True,\n",
    "                                  target_header=target_header, clobber=True)"
   ]
  },
  {
   "cell_type": "code",
   "execution_count": 11,
   "metadata": {},
   "outputs": [],
   "source": [
    "wavLower = 1*u.um\n",
    "wavUpper = 3000*u.um\n",
    "freqLower = wavUpper.to(u.Hz, u.spectral()).value\n",
    "freqUpper = wavLower.to(u.Hz, u.spectral()).value"
   ]
  },
  {
   "cell_type": "code",
   "execution_count": 12,
   "metadata": {},
   "outputs": [],
   "source": [
    "iNh2 = 1.0E+22 # in cm^-2\n",
    "iTdust = 22.0 # in K.\n",
    "ibeta = 2.0 # \n",
    "betaVary = False # If True, Beta will be fitted. If False, beta will be fixed.\n",
    "betaMin = 1.0\n",
    "betaMax = 3.0"
   ]
  },
  {
   "cell_type": "code",
   "execution_count": 13,
   "metadata": {},
   "outputs": [],
   "source": [
    "wavelengths = np.array([70,160,250,350,500,870])*u.um\n",
    "frequencies = wavelengths.to(u.Hz, u.spectral()).value.copy()"
   ]
  },
  {
   "cell_type": "code",
   "execution_count": 14,
   "metadata": {},
   "outputs": [],
   "source": [
    "h = cons.h.cgs.value   # Planck constant in CGS unit\n",
    "k = cons.k_B.cgs.value # Boltzmann constant in CGS unit\n",
    "c = cons.c.cgs.value # speed of light in CGS unit\n",
    "mH = cons.m_p.cgs.value # mass of an neutron\n",
    "muh2 = 2.8 # mean molecular weight adopted from Kauffmann et al. (2008)\n",
    "rGD = 100.0 # gas-to-dust mass ratio\n",
    "nu0 = 599.584916E9 # Reference frequency in Hz.\n",
    "kappa0 = 5.0/1.5 # Dust emissivity at reference frequency"
   ]
  },
  {
   "cell_type": "code",
   "execution_count": 15,
   "metadata": {},
   "outputs": [],
   "source": [
    "import os\n",
    "import time\n",
    "import numpy as np\n",
    "import matplotlib as mpl\n",
    "import matplotlib.pyplot as plt\n",
    "from scipy.integrate import quad\n",
    "from astropy.io import fits\n",
    "from astropy.table import Table, Column, vstack\n",
    "from astropy import units as u\n",
    "import astropy.coordinates as coords\n",
    "import astropy.constants as cons\n",
    "from lmfit import minimize, Parameters, Model"
   ]
  },
  {
   "cell_type": "code",
   "execution_count": 16,
   "metadata": {},
   "outputs": [],
   "source": [
    "def greybody(nu, nH2=iNh2, Tdust=iTdust, beta=ibeta):\n",
    "    blackBody = 2*h*nu**3/c**2/(np.exp(h*nu/k/Tdust)-1)\n",
    "    tau = muh2*mH*nH2*kappa0*(nu/nu0)**beta/rGD\n",
    "    return blackBody*(1-np.exp(-tau))"
   ]
  },
  {
   "cell_type": "code",
   "execution_count": 17,
   "metadata": {},
   "outputs": [],
   "source": [
    "gMod = Model(greybody)\n",
    "gMod.set_param_hint('beta', min = betaMin, max = betaMax, vary = betaVary)\n",
    "gMod.set_param_hint('Tdust',  max = 80.0)\n",
    "pars = gMod.make_params()"
   ]
  },
  {
   "cell_type": "code",
   "execution_count": 18,
   "metadata": {},
   "outputs": [],
   "source": [
    "hdrRaw = fits.getheader('Herschel_PACS160_converted_smregrid45.fits') \n",
    "hdrNh2 = hdrRaw.copy()\n",
    "hdrInt = hdrRaw.copy()\n",
    "hdrTdust = hdrRaw.copy()\n",
    "hdrNh2['BUNIT'] = 'cm^-2'\n",
    "hdrInt['BUNIT'] = 'g s^-3'\n",
    "hdrTdust['BUNIT'] = 'K'"
   ]
  },
  {
   "cell_type": "code",
   "execution_count": 19,
   "metadata": {},
   "outputs": [],
   "source": [
    "data070 = fits.getdata('Herschel_PACS070_converted_smregrid45.fits')\n",
    "data160 = fits.getdata('Herschel_PACS160_converted_smregrid45.fits')\n",
    "data250 = fits.getdata('Herschel_SPIRE250_converted_smregrid45.fits')\n",
    "data350 = fits.getdata('Herschel_SPIRE350_converted_smregrid45.fits')\n",
    "data500 = fits.getdata('Herschel_SPIRE500_converted_smregrid45.fits')\n",
    "data870 = fits.getdata('Apex_ATLASGAL870_converted_smregrid45.fits')"
   ]
  },
  {
   "cell_type": "code",
   "execution_count": 20,
   "metadata": {},
   "outputs": [],
   "source": [
    "weis = 1.0*u.MJy/u.sr\n",
    "dataNh2 = data500.copy()\n",
    "dataTdust = data500.copy()\n",
    "dataIntegrate = data500.copy()"
   ]
  },
  {
   "cell_type": "code",
   "execution_count": 21,
   "metadata": {},
   "outputs": [],
   "source": [
    "for iCol in range(len(data500[:,1])):\n",
    "    for iRow in range(len(data500[1,:])):\n",
    "        data = np.array([data070[iCol,iRow], data160[iCol,iRow], data250[iCol,iRow], \n",
    "                         data350[iCol,iRow], data500[iCol,iRow], data870[iCol,iRow]])*u.MJy/u.sr\n",
    "        if ((data070[iCol,iRow] > 0)\n",
    "            and (data160[iCol,iRow] > 0)\n",
    "            and (data250[iCol,iRow] > 0) \n",
    "            and (data350[iCol,iRow] > 0) \n",
    "            and (data500[iCol,iRow] > 0)\n",
    "            and (data870[iCol,iRow] > 0)):\n",
    "            sedResult = gMod.fit(data.cgs.value, nu = frequencies, weights = weis.cgs.value)\n",
    "            inTSED = quad(greybody, freqLower, freqUpper, \n",
    "                          args = (sedResult.params['nH2'].value, sedResult.params['Tdust'].value, \n",
    "                                  sedResult.params['beta'].value))\n",
    "            dataNh2[iCol,iRow] = sedResult.params['nH2'].value\n",
    "            dataTdust[iCol,iRow] = sedResult.params['Tdust'].value\n",
    "            dataIntegrate[iCol,iRow] = inTSED[0]\n",
    "        else:\n",
    "            dataNh2[iCol,iRow] = np.nan\n",
    "            dataTdust[iCol,iRow] = np.nan\n",
    "            dataIntegrate[iCol,iRow] = np.nan"
   ]
  },
  {
   "cell_type": "code",
   "execution_count": 22,
   "metadata": {},
   "outputs": [
    {
     "name": "stderr",
     "output_type": "stream",
     "text": [
      "WARNING: AstropyDeprecationWarning: \"clobber\" was deprecated in version 2.0 and will be removed in a future version. Use argument \"overwrite\" instead. [warnings]\n",
      "WARNING: AstropyDeprecationWarning: \"clobber\" was deprecated in version 2.0 and will be removed in a future version. Use argument \"overwrite\" instead. [warnings]\n",
      "WARNING: AstropyDeprecationWarning: \"clobber\" was deprecated in version 2.0 and will be removed in a future version. Use argument \"overwrite\" instead. [warnings]\n"
     ]
    }
   ],
   "source": [
    "fits.writeto('Nh2.fits', data = dataNh2, \n",
    "    header = hdrNh2, clobber = True)\n",
    "fits.writeto('Tdust.fits', data = dataTdust, \n",
    "    header = hdrTdust, clobber = True)\n",
    "fits.writeto('intSED.fits', data = dataIntegrate, \n",
    "    header = hdrInt, clobber = True)\n",
    "stop = time.time()"
   ]
  },
  {
   "cell_type": "code",
   "execution_count": 28,
   "metadata": {},
   "outputs": [],
   "source": [
    "def plot_result(parameter, distance, sourcename, center_x, center_y, crop_size=0.08, recenter=True, add_grid=True,\n",
    "                add_beam=True, beam_size=True, add_scalebar=True):\n",
    "    parameter_dir = {'Tdust': 'Tdust.fits', 'Nh2':'Nh2.fits', 'intSED':'intSED.fits'}\n",
    "    img = ap.FITSFigure(parameter_dir[parameter])\n",
    "    img.show_colorscale(stretch='log',cmap='hot')\n",
    "    img.add_colorbar()\n",
    "    img.colorbar.set_width(0.4)\n",
    "    if recenter:\n",
    "        img.recenter(x=center_x, y=center_y, width=crop_size, height=crop_size)\n",
    "    if add_grid:\n",
    "        img.add_grid()\n",
    "    if add_beam:\n",
    "        img.add_beam(color='black',hatch='',linewidth=3, alpha=0.1)\n",
    "        img.beam.set_edgecolor('white')\n",
    "        img.add_label(0.1,0.15,'beam size',relative='axes',color='k',fontsize=15)\n",
    "    if add_scalebar:\n",
    "        img.add_scalebar(0.2*u.pc/(distance*10**3*u.pc)*180/np.pi*u.deg, corner='top left',color='white')\n",
    "        img.scalebar.set_label('2 pc')\n",
    "    img.set_title(parameter+' distribution of '+sourcename)\n",
    "    img.savefig('Tdust.png',dpi=600)"
   ]
  },
  {
   "cell_type": "code",
   "execution_count": 30,
   "metadata": {},
   "outputs": [
    {
     "name": "stdout",
     "output_type": "stream",
     "text": [
      "INFO: Auto-setting vmin to  4.099e+21 [aplpy.core]\n",
      "INFO: Auto-setting vmax to  6.407e+22 [aplpy.core]\n"
     ]
    },
    {
     "name": "stderr",
     "output_type": "stream",
     "text": [
      "/home/wang/anaconda3/lib/python3.7/site-packages/matplotlib/colors.py:527: RuntimeWarning: invalid value encountered in less\n",
      "  xa[xa < 0] = -1\n",
      "/home/wang/anaconda3/lib/python3.7/site-packages/matplotlib/colors.py:527: RuntimeWarning: invalid value encountered in less\n",
      "  xa[xa < 0] = -1\n",
      "/home/wang/anaconda3/lib/python3.7/site-packages/matplotlib/colors.py:527: RuntimeWarning: invalid value encountered in less\n",
      "  xa[xa < 0] = -1\n"
     ]
    },
    {
     "data": {
      "image/png": "[encoded data removed]",
      "text/plain": [
       "<Figure size 720x648 with 2 Axes>"
      ]
     },
     "metadata": {
      "needs_background": "light"
     },
     "output_type": "display_data"
    }
   ],
   "source": [
    "# plot the result\n",
    "plot_result('Nh2',5.3, 'I16060', center_x=242.4702081, center_y=-51.915194)\n"
   ]
  },
  {
   "cell_type": "code",
   "execution_count": 31,
   "metadata": {},
   "outputs": [
    {
     "name": "stdout",
     "output_type": "stream",
     "text": [
      "INFO: Auto-setting vmin to  4.099e+21 [aplpy.core]\n",
      "INFO: Auto-setting vmax to  6.407e+22 [aplpy.core]\n"
     ]
    },
    {
     "name": "stderr",
     "output_type": "stream",
     "text": [
      "/home/wang/anaconda3/lib/python3.7/site-packages/matplotlib/colors.py:527: RuntimeWarning: invalid value encountered in less\n",
      "  xa[xa < 0] = -1\n",
      "/home/wang/anaconda3/lib/python3.7/site-packages/matplotlib/colors.py:527: RuntimeWarning: invalid value encountered in less\n",
      "  xa[xa < 0] = -1\n",
      "/home/wang/anaconda3/lib/python3.7/site-packages/matplotlib/colors.py:527: RuntimeWarning: invalid value encountered in less\n",
      "  xa[xa < 0] = -1\n"
     ]
    },
    {
     "data": {
      "image/png": "[encoded data removed]",
      "text/plain": [
       "<Figure size 720x648 with 2 Axes>"
      ]
     },
     "metadata": {
      "needs_background": "light"
     },
     "output_type": "display_data"
    }
   ],
   "source": [
    "plot_result('Nh2',5.3, 'I16060', center_x=242.4702081, center_y=-51.915194)"
   ]
  },
  {
   "cell_type": "code",
   "execution_count": null,
   "metadata": {},
   "outputs": [],
   "source": []
  }
 ],
 "metadata": {
  "kernelspec": {
   "display_name": "Python 3",
   "language": "python",
   "name": "python3"
  },
  "language_info": {
   "codemirror_mode": {
    "name": "ipython",
    "version": 3
   },
   "file_extension": ".py",
   "mimetype": "text/x-python",
   "name": "python",
   "nbconvert_exporter": "python",
   "pygments_lexer": "ipython3",
   "version": "3.7.4"
  }
 },
 "nbformat": 4,
 "nbformat_minor": 2
}
